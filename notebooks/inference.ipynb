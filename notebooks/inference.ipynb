{
  "cells": [
    {
      "cell_type": "code",
      "execution_count": 20,
      "metadata": {
        "id": "xIA7u5m5RyGB"
      },
      "outputs": [],
      "source": [
        "import pandas as pd\n",
        "import joblib\n",
        "import pickle\n",
        "import torch\n",
        "import numpy as np\n",
        "import sys\n",
        "import os\n",
        "\n",
        "sys.path.append(os.path.abspath('../model'))\n",
        "sys.path.append(os.path.abspath('../utils'))\n",
        "sys.path.append(os.path.abspath('../data'))\n",
        "\n",
        "from tag_extraction import extract_tags, tag_mapping, filter_second_level_by_first_level\n",
        "from data_preprocessing import process_data, TagDataset\n",
        "from cnn_model import TextCNN"
      ]
    },
    {
      "cell_type": "code",
      "execution_count": 21,
      "metadata": {
        "id": "7lKhUrkQRyGB"
      },
      "outputs": [],
      "source": [
        "test_data = pd.read_csv(\"train_data_categories.csv\")"
      ]
    },
    {
      "cell_type": "code",
      "execution_count": 22,
      "metadata": {
        "colab": {
          "base_uri": "https://localhost:8080/"
        },
        "id": "kDmNc3YhRyGC",
        "outputId": "a56b7429-9dc9-460a-f010-3f54e90c69a7"
      },
      "outputs": [
        {
          "output_type": "stream",
          "name": "stderr",
          "text": [
            "<ipython-input-22-6918a884c7f0>:3: FutureWarning: You are using `torch.load` with `weights_only=False` (the current default value), which uses the default pickle module implicitly. It is possible to construct malicious pickle data which will execute arbitrary code during unpickling (See https://github.com/pytorch/pytorch/blob/main/SECURITY.md#untrusted-models for more details). In a future release, the default value for `weights_only` will be flipped to `True`. This limits the functions that could be executed during unpickling. Arbitrary objects will no longer be allowed to be loaded via this mode unless they are explicitly allowlisted by the user via `torch.serialization.add_safe_globals`. We recommend you start setting `weights_only=True` for any use case where you don't have full control of the loaded file. Please open an issue on GitHub for any issues related to this experimental feature.\n",
            "  model_first_level.load_state_dict(torch.load('model_first_level.pth'))\n",
            "<ipython-input-22-6918a884c7f0>:7: FutureWarning: You are using `torch.load` with `weights_only=False` (the current default value), which uses the default pickle module implicitly. It is possible to construct malicious pickle data which will execute arbitrary code during unpickling (See https://github.com/pytorch/pytorch/blob/main/SECURITY.md#untrusted-models for more details). In a future release, the default value for `weights_only` will be flipped to `True`. This limits the functions that could be executed during unpickling. Arbitrary objects will no longer be allowed to be loaded via this mode unless they are explicitly allowlisted by the user via `torch.serialization.add_safe_globals`. We recommend you start setting `weights_only=True` for any use case where you don't have full control of the loaded file. Please open an issue on GitHub for any issues related to this experimental feature.\n",
            "  model_second_level.load_state_dict(torch.load('model_second_level.pth'))\n"
          ]
        },
        {
          "output_type": "execute_result",
          "data": {
            "text/plain": [
              "TextCNN(\n",
              "  (conv1): Conv1d(768, 100, kernel_size=(3,), stride=(1,), padding=(1,))\n",
              "  (conv2): Conv1d(768, 100, kernel_size=(4,), stride=(1,), padding=(2,))\n",
              "  (conv3): Conv1d(768, 100, kernel_size=(5,), stride=(1,), padding=(2,))\n",
              "  (dropout): Dropout(p=0.5, inplace=False)\n",
              "  (fc): Linear(in_features=300, out_features=329, bias=True)\n",
              ")"
            ]
          },
          "metadata": {},
          "execution_count": 22
        }
      ],
      "source": [
        "# Загрузка моделей\n",
        "model_first_level = TextCNN(num_classes=30)\n",
        "model_first_level.load_state_dict(torch.load('model_first_level.pth'))\n",
        "model_first_level.eval()\n",
        "\n",
        "model_second_level = TextCNN(num_classes=329)\n",
        "model_second_level.load_state_dict(torch.load('model_second_level.pth'))\n",
        "model_second_level.eval()"
      ]
    },
    {
      "cell_type": "code",
      "execution_count": 23,
      "metadata": {
        "id": "x5_8f0QFRyGC"
      },
      "outputs": [],
      "source": [
        "# Загрузка бинаризаторов и сопоставлений\n",
        "mlb_first_level = joblib.load('mlb_first_level.pkl')\n",
        "mlb_second_level = joblib.load('mlb_second_level.pkl')\n",
        "tag_mapping = joblib.load('tag_mapping.pkl')"
      ]
    },
    {
      "cell_type": "code",
      "execution_count": 24,
      "metadata": {
        "colab": {
          "base_uri": "https://localhost:8080/"
        },
        "id": "24ZfwO2lRyGD",
        "outputId": "951abd78-fa0d-459f-ad0e-eadbc4cc02ca"
      },
      "outputs": [
        {
          "output_type": "stream",
          "name": "stderr",
          "text": [
            "WARNING:sentence_transformers.SentenceTransformer:No sentence-transformers model found with name DeepPavlov/rubert-base-cased-sentence. Creating a new one with mean pooling.\n",
            "/usr/local/lib/python3.10/dist-packages/transformers/tokenization_utils_base.py:1601: FutureWarning: `clean_up_tokenization_spaces` was not set. It will be set to `True` by default. This behavior will be depracted in transformers v4.45, and will be then set to `False` by default. For more details check this issue: https://github.com/huggingface/transformers/issues/31884\n",
            "  warnings.warn(\n"
          ]
        }
      ],
      "source": [
        "test_data['first_level_tags'], test_data['second_level_tags'] = zip(*test_data['tags'].apply(extract_tags))\n",
        "process_data(test_data)"
      ]
    },
    {
      "cell_type": "code",
      "execution_count": 30,
      "metadata": {
        "id": "P_Mrv_AgRyGD"
      },
      "outputs": [],
      "source": [
        "# Предсказания для первого уровня\n",
        "model_first_level.eval()\n",
        "predictions_first_level_test = []\n",
        "with torch.no_grad():\n",
        "    inputs_test = np.vstack(test_data['combined_vector'].values)\n",
        "    outputs_first_level = model_first_level(torch.tensor(inputs_test, dtype=torch.float32))\n",
        "    predictions_first_level_test.append((torch.sigmoid(outputs_first_level) > 0.2).cpu().numpy())\n",
        "\n",
        "predictions_first_level_test = np.vstack(predictions_first_level_test)\n",
        "\n",
        "# Предсказания для второго уровня\n",
        "model_second_level.eval()\n",
        "predictions_second_level_test = []\n",
        "with torch.no_grad():\n",
        "    outputs_second_level = model_second_level(torch.tensor(inputs_test, dtype=torch.float32))\n",
        "    predictions_second_level_test.append((torch.sigmoid(outputs_second_level) > 0.4).cpu().numpy())\n",
        "\n",
        "predictions_second_level_test = np.vstack(predictions_second_level_test)\n",
        "\n",
        "# Фильтрация предсказаний второго уровня на основе первого уровня\n",
        "filtered_predictions_second_level_test = filter_second_level_by_first_level(\n",
        "    predictions_second_level_test,\n",
        "    predictions_first_level_test,\n",
        "    mlb_first_level,\n",
        "    mlb_second_level,\n",
        "    tag_mapping\n",
        ")\n",
        "\n",
        "predicted_first_level_tags_test = [\n",
        "    \", \".join(mlb_first_level.classes_[pred.astype(bool)]) for pred in predictions_first_level_test\n",
        "]\n",
        "\n",
        "predicted_second_level_tags_test = []\n",
        "for i, pred in enumerate(filtered_predictions_second_level_test):\n",
        "    first_level_pred = mlb_first_level.classes_[predictions_first_level_test[i].astype(bool)]\n",
        "    second_level_pred = mlb_second_level.classes_[pred.astype(bool)]\n",
        "\n",
        "    # Создаем строки вида [Первый уровень: Второй уровень]\n",
        "    combined_tags = []\n",
        "\n",
        "    for fl_tag in first_level_pred:\n",
        "        if fl_tag in tag_mapping:  # Если тег первого уровня есть в mapping\n",
        "            # Получаем соответствующие теги второго уровня\n",
        "            corresponding_second_level_tags = [f\"{fl_tag}: {sl_tag}\" for sl_tag in second_level_pred if sl_tag in tag_mapping[fl_tag]]\n",
        "            combined_tags.extend(corresponding_second_level_tags)\n",
        "\n",
        "            # Добавляем тег первого уровня, если у него нет соответствующих тегов второго уровня\n",
        "            if not corresponding_second_level_tags:\n",
        "                combined_tags.append(fl_tag)\n",
        "\n",
        "    predicted_second_level_tags_test.append(combined_tags)\n",
        "\n",
        "# Создание итогового DataFrame\n",
        "result_test_df = pd.DataFrame({\n",
        "    'video_id': test_data['video_id'].values,\n",
        "    'predicted_tags': predicted_second_level_tags_test\n",
        "})\n",
        "\n",
        "# Устанавливаем video_id как индекс\n",
        "result_test_df.set_index('video_id', inplace=True)\n",
        "\n",
        "# Сохранение результата в CSV файл\n",
        "result_test_df['predicted_tags'] = result_test_df['predicted_tags'].astype(str)\n",
        "result_test_df[['predicted_tags']].to_csv('submission_test_data.csv')"
      ]
    },
    {
      "cell_type": "code",
      "source": [],
      "metadata": {
        "id": "JkqJ1S_RugFX"
      },
      "execution_count": null,
      "outputs": []
    }
  ],
  "metadata": {
    "kernelspec": {
      "display_name": "Python 3",
      "language": "python",
      "name": "python3"
    },
    "language_info": {
      "codemirror_mode": {
        "name": "ipython",
        "version": 3
      },
      "file_extension": ".py",
      "mimetype": "text/x-python",
      "name": "python",
      "nbconvert_exporter": "python",
      "pygments_lexer": "ipython3",
      "version": "3.12.6"
    },
    "colab": {
      "provenance": []
    }
  },
  "nbformat": 4,
  "nbformat_minor": 0
}