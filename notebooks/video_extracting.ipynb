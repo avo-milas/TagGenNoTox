{
 "cells": [
  {
   "cell_type": "markdown",
   "metadata": {
    "id": "mX0y-tCmqQrr"
   },
   "source": [
    "# Загрузка видео"
   ]
  },
  {
   "cell_type": "markdown",
   "metadata": {
    "id": "oPeJzMSbqWDq"
   },
   "source": [
    "Скачиваем первую и вторую часть zip-архива"
   ]
  },
  {
   "cell_type": "code",
   "execution_count": null,
   "metadata": {
    "id": "1BMil51CqPT-"
   },
   "outputs": [],
   "source": [
    "!wget 'https://lodmedia.hb.bizmrg.com/case_files/1128311/train_dataset_tag_video.zip' -O archive_with_tabular_data.zip "
   ]
  },
  {
   "cell_type": "code",
   "execution_count": null,
   "metadata": {
    "id": "gZjiIvpZqlL7"
   },
   "outputs": [
    {
     "name": "stdout",
     "output_type": "stream",
     "text": [
      "--2024-09-28 23:39:59--  https://lodmedia.hb.bizmrg.com/case_files/1128311/train_tag_video_2.zip\n",
      "Resolving lodmedia.hb.bizmrg.com (lodmedia.hb.bizmrg.com)... 95.163.53.117\n",
      "Connecting to lodmedia.hb.bizmrg.com (lodmedia.hb.bizmrg.com)|95.163.53.117|:443... connected.\n",
      "HTTP request sent, awaiting response... 200 OK\n",
      "Length: 76928936334 (72G) [application/zip]\n",
      "Saving to: ‘archive_2.zip’\n",
      "\n",
      "archive_2.zip         1%[                    ]   1.12G  38.3MB/s    eta 24m 47s"
     ]
    }
   ],
   "source": [
    "!wget 'https://lodmedia.hb.bizmrg.com/case_files/1128311/train_tag_video_2.zip'  -O archive_2.zip"
   ]
  },
  {
   "cell_type": "markdown",
   "metadata": {
    "id": "N9av-9mZq2wF"
   },
   "source": [
    "Скачиваем и помещаем в папку 'extracted_files' основную часть видосов"
   ]
  },
  {
   "cell_type": "code",
   "execution_count": 1,
   "metadata": {
    "id": "hNBJdcpqq133"
   },
   "outputs": [],
   "source": [
    "import zipfile\n",
    "\n",
    "# Путь к ZIP-файлу\n",
    "zip_path = 'archive_2.zip'\n",
    "\n",
    "# Открытие ZIP-архива\n",
    "with zipfile.ZipFile(zip_path, 'r') as zip_ref:\n",
    "    # Список всех файлов в архиве\n",
    "    files_in_zip = zip_ref.namelist()\n",
    "\n",
    "    for i in range(1, len(files_in_zip)): # на нулевой ячейке лежит просто папка, ее скачивать не будем\n",
    "      file = files_in_zip[i]\n",
    "      zip_ref.extract(file, \"extracted_files/\")"
   ]
  },
  {
   "cell_type": "code",
   "execution_count": 2,
   "metadata": {
    "id": "BI-mN2gbrnRc"
   },
   "outputs": [],
   "source": [
    "# Путь к ZIP-файлу\n",
    "zip_path = 'archive_with_tabular_data.zip'\n",
    "\n",
    "# Открытие ZIP-архива\n",
    "with zipfile.ZipFile(zip_path, 'r') as zip_ref:\n",
    "    # Список всех файлов в архиве\n",
    "    files_in_zip = zip_ref.namelist()\n",
    "    file = files_in_zip[5] # здесь находятся видео из первой части\n",
    "\n",
    "    zip_ref.extract(file, \"extracted_files/\")"
   ]
  },
  {
   "cell_type": "markdown",
   "metadata": {
    "id": "kvsszvdos0FB"
   },
   "source": [
    "Скачиваем оставшиеся видео"
   ]
  },
  {
   "cell_type": "code",
   "execution_count": 3,
   "metadata": {
    "id": "m2hzffTfszK4"
   },
   "outputs": [],
   "source": [
    "zip_path = 'extracted_files/videos.zip'\n",
    "# Открытие ZIP-архива\n",
    "with zipfile.ZipFile(zip_path, 'r') as zip_ref:\n",
    "    # Список всех файлов в архиве\n",
    "    files_in_zip = zip_ref.namelist()\n",
    "    for file in files_in_zip:\n",
    "      zip_ref.extract(file, \"extracted_files/videos_2/\") # здесь написать правильный адрес"
   ]
  }
 ],
 "metadata": {
  "colab": {
   "provenance": []
  },
  "kernelspec": {
   "display_name": "Python 3 (ipykernel)",
   "language": "python",
   "name": "python3"
  },
  "language_info": {
   "codemirror_mode": {
    "name": "ipython",
    "version": 3
   },
   "file_extension": ".py",
   "mimetype": "text/x-python",
   "name": "python",
   "nbconvert_exporter": "python",
   "pygments_lexer": "ipython3",
   "version": "3.10.12"
  }
 },
 "nbformat": 4,
 "nbformat_minor": 4
}
